{
 "cells": [
  {
   "cell_type": "code",
   "execution_count": 1,
   "metadata": {},
   "outputs": [],
   "source": [
    "import numpy as np\n",
    "import pandas as pd"
   ]
  },
  {
   "cell_type": "code",
   "execution_count": 2,
   "metadata": {},
   "outputs": [],
   "source": [
    "df = pd.read_csv('M21 Launch Ratings.csv')"
   ]
  },
  {
   "cell_type": "markdown",
   "metadata": {},
   "source": [
    "<h3>Drop the first two columns</h3>"
   ]
  },
  {
   "cell_type": "code",
   "execution_count": 5,
   "metadata": {},
   "outputs": [],
   "source": [
    "df = df.drop(['firstName','lastName'],axis=1)"
   ]
  },
  {
   "cell_type": "code",
   "execution_count": 8,
   "metadata": {},
   "outputs": [],
   "source": [
    "df = df.rename(columns={\"position\": \"Position\", \"archetype\": \"Archetype\",\"overall_rating\":\"Overall\",\"team\":\"Team\"})"
   ]
  },
  {
   "cell_type": "markdown",
   "metadata": {},
   "source": [
    "<h3>Changing column names</h3>"
   ]
  },
  {
   "cell_type": "code",
   "execution_count": 11,
   "metadata": {},
   "outputs": [],
   "source": [
    "df = df.rename(columns={\"age\":\"Age\",\"college\":\"College\",\"awareness_rating\":\"Awareness\",\"throwPower_rating\":\"Throw Power\"})"
   ]
  },
  {
   "cell_type": "code",
   "execution_count": 13,
   "metadata": {},
   "outputs": [],
   "source": [
    "df = df.rename(columns={\"kickReturn_rating\":\"Kick Return\",\"leadBlock_rating\":\"Lead Block\",\"strength_rating\":\"Strength\"})"
   ]
  },
  {
   "cell_type": "code",
   "execution_count": 15,
   "metadata": {},
   "outputs": [],
   "source": [
    "df = df.rename(columns={\"bCVision_rating\":\"Ball Carry Vision\",\"catchInTraffic_rating\":\"Catch In Traffic\"})"
   ]
  },
  {
   "cell_type": "code",
   "execution_count": 17,
   "metadata": {},
   "outputs": [],
   "source": [
    "df = df.rename(columns={\"playAction_rating\":\"Play Action\",\"pursuit_rating\":\"Pursuit\"})"
   ]
  },
  {
   "cell_type": "code",
   "execution_count": 18,
   "metadata": {},
   "outputs": [],
   "source": [
    "df = df.drop(\"plyrAssetname\",axis=1)"
   ]
  },
  {
   "cell_type": "code",
   "execution_count": 19,
   "metadata": {},
   "outputs": [],
   "source": [
    "df = df.rename(columns={\"mediumRouteRunning_rating\":\"Medium Route Running\",\"catching_rating\":\"Catching\",\"acceleration_rating\":\"Acceleration\"})"
   ]
  },
  {
   "cell_type": "code",
   "execution_count": 21,
   "metadata": {},
   "outputs": [],
   "source": [
    "df = df.rename(columns={\"spinMove_rating\":\"Spin Move\",\"height\":\"Height\",\"finesseMoves_rating\":\"Finesse Moves\"})"
   ]
  },
  {
   "cell_type": "code",
   "execution_count": 22,
   "metadata": {},
   "outputs": [],
   "source": [
    "df = df.rename(columns={\"spectacularCatch_rating\":\"Spectacular Catch\",\"runBlock_rating\":\"Run Block\",\"tackle_rating\":\"Tackle\"})"
   ]
  },
  {
   "cell_type": "code",
   "execution_count": 24,
   "metadata": {},
   "outputs": [],
   "source": [
    "df = df.rename(columns={\"injury_rating\":\"Injury\",\"zoneCoverage_rating\":\"Zone Coverage\",\"weight\":\"Weight\",\"plyrBirthdate\":\"DOB\"})"
   ]
  },
  {
   "cell_type": "code",
   "execution_count": 25,
   "metadata": {},
   "outputs": [],
   "source": [
    "df = df.drop('runningStyle_rating',axis=1)"
   ]
  },
  {
   "cell_type": "code",
   "execution_count": 26,
   "metadata": {},
   "outputs": [],
   "source": [
    "df = df.rename(columns={\"deepRouteRunning_rating\":\"Deep Route Running\",\"yearsPro\":\"Experience\",\"totalSalary\":\"Total Salary\"})"
   ]
  },
  {
   "cell_type": "code",
   "execution_count": 27,
   "metadata": {},
   "outputs": [],
   "source": [
    "df = df.rename(columns={\"trucking_rating\":\"Trucking\",\"throwAccuracyShort_rating\":\"Throw Accuracy (Short)\"})"
   ]
  },
  {
   "cell_type": "code",
   "execution_count": 28,
   "metadata": {},
   "outputs": [],
   "source": [
    "df = df.rename(columns={\"jukeMove_rating\":\"Juke Move\",\"playRecognition_rating\":\"Play Recognition\",\"shortRouteRunning_rating\":\"Route Running (Short)\"})"
   ]
  },
  {
   "cell_type": "code",
   "execution_count": 30,
   "metadata": {},
   "outputs": [],
   "source": [
    "df = df.rename(columns={\"jerseyNum\":\"Jersey Number\",\"breakSack_rating\":\"Break Sack\",\"speed_rating\":\"Speed\"})"
   ]
  },
  {
   "cell_type": "code",
   "execution_count": 31,
   "metadata": {},
   "outputs": [],
   "source": [
    "df = df.rename(columns={\"runBlockPower_rating\":\"Run Block Power\",\"jumping_rating\":\"Jumping\",\"toughness_rating\":\"Toughness\"})"
   ]
  },
  {
   "cell_type": "code",
   "execution_count": 32,
   "metadata": {},
   "outputs": [],
   "source": [
    "df = df.rename(columns={\"throwOnTheRun_rating\":\"Throw On The Run\",\"manCoverage_rating\":\"Man Coverage\",\"stiffArm_rating\":\"Stiff Arm\"})"
   ]
  },
  {
   "cell_type": "code",
   "execution_count": 33,
   "metadata": {},
   "outputs": [],
   "source": [
    "df = df.rename(columns={\"powerMoves_rating\":\"Power Moves\",\"release_rating\":\"Release\",\"hitPower_rating\":\"Hit Power\"})"
   ]
  },
  {
   "cell_type": "code",
   "execution_count": 34,
   "metadata": {},
   "outputs": [],
   "source": [
    "df = df.drop('iteration',axis=1)"
   ]
  },
  {
   "cell_type": "code",
   "execution_count": 35,
   "metadata": {},
   "outputs": [],
   "source": [
    "df = df.rename(columns={\"throwAccuracyMid_rating\":\"Throw Accuracy (Mid)\",\"kickAccuracy_rating\":\"Kick Accuracy\",\"passBlockPower_rating\":\"Pass Block Power\"})"
   ]
  },
  {
   "cell_type": "code",
   "execution_count": 36,
   "metadata": {},
   "outputs": [],
   "source": [
    "df = df.rename(columns={\"impactBlocking_rating\":\"Impact Blocking\",\"stamina_rating\":\"Stamina\",\"carrying_rating\":\"Carrying\"})"
   ]
  },
  {
   "cell_type": "code",
   "execution_count": 37,
   "metadata": {},
   "outputs": [],
   "source": [
    "df = df.rename(columns={\"breakTackle_rating\":\"Break Tackle\",\"kickPower_rating\":\"Kick Power\",\"plyrHandedness\":\"Handedness\"})"
   ]
  },
  {
   "cell_type": "code",
   "execution_count": 38,
   "metadata": {},
   "outputs": [],
   "source": [
    "df = df.drop('plyrPortrait',axis=1)"
   ]
  },
  {
   "cell_type": "code",
   "execution_count": 39,
   "metadata": {},
   "outputs": [],
   "source": [
    "df = df.rename(columns={\"throwUnderPressure_rating\":\"Throw Under Pressure\",\"passBlock_rating\":\"Pass Block\"})"
   ]
  },
  {
   "cell_type": "code",
   "execution_count": 40,
   "metadata": {},
   "outputs": [],
   "source": [
    "df = df.drop('signingBonus',axis=1)"
   ]
  },
  {
   "cell_type": "code",
   "execution_count": 41,
   "metadata": {},
   "outputs": [],
   "source": [
    "df = df.rename(columns={\"changeOfDirection_rating\":\"Change Of Direction\",\"press_rating\":\"Press\",\"throwAccuracyDeep_rating\":\"Throw Accuracy (Deep)\"})"
   ]
  },
  {
   "cell_type": "code",
   "execution_count": 42,
   "metadata": {},
   "outputs": [],
   "source": [
    "df = df.rename(columns={\"blockShedding_rating\":\"Block Shedding\",\"runBlockFinesse_rating\":\"Run Block Finesse\",\"teamId\":\"Team ID\",\"agility_rating\":\"Agility\",\"passBlockFinesse_rating\":\"Pass Block Finesse\",\"primaryKey\":\"Primary Key\"})"
   ]
  },
  {
   "cell_type": "code",
   "execution_count": 44,
   "metadata": {},
   "outputs": [],
   "source": [
    "df = df.drop('age.1',axis=1)"
   ]
  },
  {
   "cell_type": "code",
   "execution_count": 49,
   "metadata": {},
   "outputs": [],
   "source": [
    "df = df.drop(['Unnamed: 65','Unnamed: 75'],axis=1)"
   ]
  },
  {
   "cell_type": "code",
   "execution_count": 51,
   "metadata": {},
   "outputs": [
    {
     "data": {
      "text/html": [
       "<div>\n",
       "<style scoped>\n",
       "    .dataframe tbody tr th:only-of-type {\n",
       "        vertical-align: middle;\n",
       "    }\n",
       "\n",
       "    .dataframe tbody tr th {\n",
       "        vertical-align: top;\n",
       "    }\n",
       "\n",
       "    .dataframe thead th {\n",
       "        text-align: right;\n",
       "    }\n",
       "</style>\n",
       "<table border=\"1\" class=\"dataframe\">\n",
       "  <thead>\n",
       "    <tr style=\"text-align: right;\">\n",
       "      <th></th>\n",
       "      <th>Name</th>\n",
       "      <th>Position</th>\n",
       "      <th>Archetype</th>\n",
       "      <th>Overall</th>\n",
       "      <th>Team</th>\n",
       "      <th>Age</th>\n",
       "      <th>College</th>\n",
       "      <th>Awareness</th>\n",
       "      <th>Throw Power</th>\n",
       "      <th>Kick Return</th>\n",
       "      <th>...</th>\n",
       "      <th>Pass Block</th>\n",
       "      <th>Change Of Direction</th>\n",
       "      <th>Press</th>\n",
       "      <th>Throw Accuracy (Deep)</th>\n",
       "      <th>Block Shedding</th>\n",
       "      <th>Run Block Finesse</th>\n",
       "      <th>Team ID</th>\n",
       "      <th>Agility</th>\n",
       "      <th>Pass Block Finesse</th>\n",
       "      <th>Primary Key</th>\n",
       "    </tr>\n",
       "  </thead>\n",
       "  <tbody>\n",
       "    <tr>\n",
       "      <th>0</th>\n",
       "      <td>Aaron Donald</td>\n",
       "      <td>RE</td>\n",
       "      <td>DE_PowerRusher</td>\n",
       "      <td>99</td>\n",
       "      <td>Rams</td>\n",
       "      <td>29</td>\n",
       "      <td>Pittsburgh</td>\n",
       "      <td>99</td>\n",
       "      <td>20</td>\n",
       "      <td>10</td>\n",
       "      <td>...</td>\n",
       "      <td>45</td>\n",
       "      <td>68</td>\n",
       "      <td>21</td>\n",
       "      <td>6</td>\n",
       "      <td>97</td>\n",
       "      <td>45</td>\n",
       "      <td>24</td>\n",
       "      <td>86</td>\n",
       "      <td>45</td>\n",
       "      <td>10852</td>\n",
       "    </tr>\n",
       "    <tr>\n",
       "      <th>1</th>\n",
       "      <td>Christian McCaffrey</td>\n",
       "      <td>HB</td>\n",
       "      <td>HB_ReceivingBack</td>\n",
       "      <td>99</td>\n",
       "      <td>Panthers</td>\n",
       "      <td>24</td>\n",
       "      <td>Stanford</td>\n",
       "      <td>97</td>\n",
       "      <td>44</td>\n",
       "      <td>88</td>\n",
       "      <td>...</td>\n",
       "      <td>69</td>\n",
       "      <td>96</td>\n",
       "      <td>15</td>\n",
       "      <td>30</td>\n",
       "      <td>32</td>\n",
       "      <td>22</td>\n",
       "      <td>21</td>\n",
       "      <td>97</td>\n",
       "      <td>32</td>\n",
       "      <td>12556</td>\n",
       "    </tr>\n",
       "    <tr>\n",
       "      <th>2</th>\n",
       "      <td>Michael Thomas</td>\n",
       "      <td>WR</td>\n",
       "      <td>WR_RouteRunner</td>\n",
       "      <td>99</td>\n",
       "      <td>Saints</td>\n",
       "      <td>27</td>\n",
       "      <td>Ohio State</td>\n",
       "      <td>99</td>\n",
       "      <td>24</td>\n",
       "      <td>25</td>\n",
       "      <td>...</td>\n",
       "      <td>40</td>\n",
       "      <td>90</td>\n",
       "      <td>16</td>\n",
       "      <td>6</td>\n",
       "      <td>22</td>\n",
       "      <td>31</td>\n",
       "      <td>27</td>\n",
       "      <td>92</td>\n",
       "      <td>14</td>\n",
       "      <td>17552</td>\n",
       "    </tr>\n",
       "    <tr>\n",
       "      <th>3</th>\n",
       "      <td>Patrick Mahomes</td>\n",
       "      <td>QB</td>\n",
       "      <td>QB_Improviser</td>\n",
       "      <td>99</td>\n",
       "      <td>Chiefs</td>\n",
       "      <td>24</td>\n",
       "      <td>Texas Tech</td>\n",
       "      <td>97</td>\n",
       "      <td>97</td>\n",
       "      <td>10</td>\n",
       "      <td>...</td>\n",
       "      <td>10</td>\n",
       "      <td>88</td>\n",
       "      <td>10</td>\n",
       "      <td>93</td>\n",
       "      <td>24</td>\n",
       "      <td>10</td>\n",
       "      <td>9</td>\n",
       "      <td>88</td>\n",
       "      <td>10</td>\n",
       "      <td>12635</td>\n",
       "    </tr>\n",
       "    <tr>\n",
       "      <th>4</th>\n",
       "      <td>Stephon Gilmore</td>\n",
       "      <td>CB</td>\n",
       "      <td>CB_MantoMan</td>\n",
       "      <td>99</td>\n",
       "      <td>Patriots</td>\n",
       "      <td>29</td>\n",
       "      <td>South Carolina</td>\n",
       "      <td>99</td>\n",
       "      <td>43</td>\n",
       "      <td>70</td>\n",
       "      <td>...</td>\n",
       "      <td>35</td>\n",
       "      <td>95</td>\n",
       "      <td>99</td>\n",
       "      <td>32</td>\n",
       "      <td>54</td>\n",
       "      <td>35</td>\n",
       "      <td>22</td>\n",
       "      <td>94</td>\n",
       "      <td>35</td>\n",
       "      <td>11436</td>\n",
       "    </tr>\n",
       "  </tbody>\n",
       "</table>\n",
       "<p>5 rows × 69 columns</p>\n",
       "</div>"
      ],
      "text/plain": [
       "                  Name Position         Archetype  Overall      Team  Age  \\\n",
       "0         Aaron Donald       RE    DE_PowerRusher       99      Rams   29   \n",
       "1  Christian McCaffrey       HB  HB_ReceivingBack       99  Panthers   24   \n",
       "2       Michael Thomas       WR    WR_RouteRunner       99    Saints   27   \n",
       "3      Patrick Mahomes       QB     QB_Improviser       99    Chiefs   24   \n",
       "4      Stephon Gilmore       CB       CB_MantoMan       99  Patriots   29   \n",
       "\n",
       "          College  Awareness  Throw Power  Kick Return  ...  Pass Block  \\\n",
       "0      Pittsburgh         99           20           10  ...          45   \n",
       "1        Stanford         97           44           88  ...          69   \n",
       "2      Ohio State         99           24           25  ...          40   \n",
       "3      Texas Tech         97           97           10  ...          10   \n",
       "4  South Carolina         99           43           70  ...          35   \n",
       "\n",
       "   Change Of Direction  Press  Throw Accuracy (Deep)  Block Shedding  \\\n",
       "0                   68     21                      6              97   \n",
       "1                   96     15                     30              32   \n",
       "2                   90     16                      6              22   \n",
       "3                   88     10                     93              24   \n",
       "4                   95     99                     32              54   \n",
       "\n",
       "   Run Block Finesse  Team ID  Agility  Pass Block Finesse  Primary Key  \n",
       "0                 45       24       86                  45        10852  \n",
       "1                 22       21       97                  32        12556  \n",
       "2                 31       27       92                  14        17552  \n",
       "3                 10        9       88                  10        12635  \n",
       "4                 35       22       94                  35        11436  \n",
       "\n",
       "[5 rows x 69 columns]"
      ]
     },
     "execution_count": 51,
     "metadata": {},
     "output_type": "execute_result"
    }
   ],
   "source": [
    "df.head()"
   ]
  },
  {
   "cell_type": "code",
   "execution_count": 58,
   "metadata": {},
   "outputs": [
    {
     "data": {
      "text/html": [
       "<div>\n",
       "<style scoped>\n",
       "    .dataframe tbody tr th:only-of-type {\n",
       "        vertical-align: middle;\n",
       "    }\n",
       "\n",
       "    .dataframe tbody tr th {\n",
       "        vertical-align: top;\n",
       "    }\n",
       "\n",
       "    .dataframe thead th {\n",
       "        text-align: right;\n",
       "    }\n",
       "</style>\n",
       "<table border=\"1\" class=\"dataframe\">\n",
       "  <thead>\n",
       "    <tr style=\"text-align: right;\">\n",
       "      <th></th>\n",
       "      <th>Name</th>\n",
       "      <th>Team</th>\n",
       "      <th>Team ID</th>\n",
       "    </tr>\n",
       "  </thead>\n",
       "  <tbody>\n",
       "    <tr>\n",
       "      <th>2262</th>\n",
       "      <td>Tyler Bray</td>\n",
       "      <td>Bears</td>\n",
       "      <td>1</td>\n",
       "    </tr>\n",
       "    <tr>\n",
       "      <th>849</th>\n",
       "      <td>Mitchell Trubisky</td>\n",
       "      <td>Bears</td>\n",
       "      <td>1</td>\n",
       "    </tr>\n",
       "    <tr>\n",
       "      <th>935</th>\n",
       "      <td>Nick Foles</td>\n",
       "      <td>Bears</td>\n",
       "      <td>1</td>\n",
       "    </tr>\n",
       "    <tr>\n",
       "      <th>544</th>\n",
       "      <td>Joe Burrow</td>\n",
       "      <td>Bengals</td>\n",
       "      <td>2</td>\n",
       "    </tr>\n",
       "    <tr>\n",
       "      <th>2203</th>\n",
       "      <td>Jake Dolegala</td>\n",
       "      <td>Bengals</td>\n",
       "      <td>2</td>\n",
       "    </tr>\n",
       "    <tr>\n",
       "      <th>...</th>\n",
       "      <td>...</td>\n",
       "      <td>...</td>\n",
       "      <td>...</td>\n",
       "    </tr>\n",
       "    <tr>\n",
       "      <th>2229</th>\n",
       "      <td>Nate Stanley</td>\n",
       "      <td>Vikings</td>\n",
       "      <td>31</td>\n",
       "    </tr>\n",
       "    <tr>\n",
       "      <th>263</th>\n",
       "      <td>Kirk Cousins</td>\n",
       "      <td>Vikings</td>\n",
       "      <td>31</td>\n",
       "    </tr>\n",
       "    <tr>\n",
       "      <th>2217</th>\n",
       "      <td>Alex McGough</td>\n",
       "      <td>Texans</td>\n",
       "      <td>32</td>\n",
       "    </tr>\n",
       "    <tr>\n",
       "      <th>1874</th>\n",
       "      <td>A.J. McCarron</td>\n",
       "      <td>Texans</td>\n",
       "      <td>32</td>\n",
       "    </tr>\n",
       "    <tr>\n",
       "      <th>133</th>\n",
       "      <td>Deshaun Watson</td>\n",
       "      <td>Texans</td>\n",
       "      <td>32</td>\n",
       "    </tr>\n",
       "  </tbody>\n",
       "</table>\n",
       "<p>111 rows × 3 columns</p>\n",
       "</div>"
      ],
      "text/plain": [
       "                   Name     Team  Team ID\n",
       "2262         Tyler Bray    Bears        1\n",
       "849   Mitchell Trubisky    Bears        1\n",
       "935          Nick Foles    Bears        1\n",
       "544          Joe Burrow  Bengals        2\n",
       "2203      Jake Dolegala  Bengals        2\n",
       "...                 ...      ...      ...\n",
       "2229       Nate Stanley  Vikings       31\n",
       "263        Kirk Cousins  Vikings       31\n",
       "2217       Alex McGough   Texans       32\n",
       "1874      A.J. McCarron   Texans       32\n",
       "133      Deshaun Watson   Texans       32\n",
       "\n",
       "[111 rows x 3 columns]"
      ]
     },
     "execution_count": 58,
     "metadata": {},
     "output_type": "execute_result"
    }
   ],
   "source": [
    "df[df['Position'] == 'QB'][['Name','Team','Team ID']].sort_values(by='Team ID', ascending=True)"
   ]
  },
  {
   "cell_type": "code",
   "execution_count": 60,
   "metadata": {},
   "outputs": [],
   "source": [
    "df = df.drop('Team ID',axis=1)"
   ]
  },
  {
   "cell_type": "code",
   "execution_count": 61,
   "metadata": {},
   "outputs": [],
   "source": [
    "df.to_csv('Madden21Cleaned.csv')"
   ]
  },
  {
   "cell_type": "markdown",
   "metadata": {},
   "source": [
    "<h3>Reorder columns to group related attributes together</h3>"
   ]
  },
  {
   "cell_type": "code",
   "execution_count": 2,
   "metadata": {},
   "outputs": [],
   "source": [
    "df2 = pd.read_csv('Madden21Cleaned.csv')"
   ]
  },
  {
   "cell_type": "code",
   "execution_count": 4,
   "metadata": {},
   "outputs": [],
   "source": [
    "df2 = df2.drop('Unnamed: 0', axis=1)"
   ]
  },
  {
   "cell_type": "code",
   "execution_count": 6,
   "metadata": {},
   "outputs": [
    {
     "data": {
      "text/plain": [
       "Index(['Name', 'Position', 'Archetype', 'Overall', 'Team', 'Age', 'College',\n",
       "       'Awareness', 'Throw Power', 'Kick Return', 'Lead Block', 'Strength',\n",
       "       'Ball Carry Vision', 'Catch In Traffic', 'Play Action', 'Pursuit',\n",
       "       'Medium Route Running', 'Catching', 'Acceleration', 'Spin Move',\n",
       "       'Height', 'Finesse Moves', 'Spectacular Catch', 'Run Block', 'Tackle',\n",
       "       'Injury', 'Zone Coverage', 'Weight', 'DOB', 'Deep Route Running',\n",
       "       'Experience', 'Total Salary', 'Trucking', 'Throw Accuracy (Short)',\n",
       "       'Juke Move', 'Play Recognition', 'Route Running (Short)',\n",
       "       'Jersey Number', 'Break Sack', 'Speed', 'Run Block Power', 'Jumping',\n",
       "       'Toughness', 'Throw On The Run', 'Man Coverage', 'Stiff Arm',\n",
       "       'Power Moves', 'Release', 'Hit Power', 'Throw Accuracy (Mid)',\n",
       "       'Kick Accuracy', 'Pass Block Power', 'Impact Blocking', 'Stamina',\n",
       "       'Carrying', 'Break Tackle', 'Kick Power', 'Handedness',\n",
       "       'Throw Under Pressure', 'Pass Block', 'Change Of Direction', 'Press',\n",
       "       'Throw Accuracy (Deep)', 'Block Shedding', 'Run Block Finesse',\n",
       "       'Agility', 'Pass Block Finesse', 'Primary Key'],\n",
       "      dtype='object')"
      ]
     },
     "execution_count": 6,
     "metadata": {},
     "output_type": "execute_result"
    }
   ],
   "source": [
    "df2.columns"
   ]
  },
  {
   "cell_type": "code",
   "execution_count": 7,
   "metadata": {},
   "outputs": [],
   "source": [
    "df2 = df2[['Name', 'Position', 'Overall', 'Team', 'College', 'Age', 'Experience',\n",
    "           'DOB', 'Height', 'Weight', 'Jersey Number', 'Handedness', 'Archetype', 'Total Salary',\n",
    "           'Awareness', 'Speed', 'Agility', 'Acceleration', 'Stamina', 'Injury', 'Toughness', 'Jumping',\n",
    "           'Throw Power', 'Throw Accuracy (Short)', 'Throw Accuracy (Mid)','Throw Accuracy (Deep)',\n",
    "           'Play Action', 'Throw Under Pressure', 'Break Sack', 'Throw On The Run',\n",
    "           'Ball Carry Vision', 'Carrying', 'Break Tackle', 'Trucking', 'Stiff Arm', 'Spin Move', 'Juke Move', \n",
    "           'Catching', 'Change Of Direction', 'Route Running (Short)', 'Medium Route Running', 'Deep Route Running', \n",
    "           'Catch In Traffic', 'Release', 'Spectacular Catch','Kick Return', \n",
    "           'Strength', 'Lead Block', 'Run Block', 'Run Block Power', 'Run Block Finesse',\n",
    "           'Pass Block', 'Pass Block Power', 'Pass Block Finesse', 'Impact Blocking',\n",
    "           'Tackle', 'Pursuit', 'Play Recognition', 'Block Shedding',\n",
    "           'Power Moves', 'Finesse Moves',\n",
    "           'Hit Power',\n",
    "           'Man Coverage', 'Zone Coverage', 'Press',\n",
    "           'Kick Power', 'Kick Accuracy', 'Primary Key']]         "
   ]
  },
  {
   "cell_type": "code",
   "execution_count": 8,
   "metadata": {},
   "outputs": [
    {
     "data": {
      "text/html": [
       "<div>\n",
       "<style scoped>\n",
       "    .dataframe tbody tr th:only-of-type {\n",
       "        vertical-align: middle;\n",
       "    }\n",
       "\n",
       "    .dataframe tbody tr th {\n",
       "        vertical-align: top;\n",
       "    }\n",
       "\n",
       "    .dataframe thead th {\n",
       "        text-align: right;\n",
       "    }\n",
       "</style>\n",
       "<table border=\"1\" class=\"dataframe\">\n",
       "  <thead>\n",
       "    <tr style=\"text-align: right;\">\n",
       "      <th></th>\n",
       "      <th>Name</th>\n",
       "      <th>Position</th>\n",
       "      <th>Overall</th>\n",
       "      <th>Team</th>\n",
       "      <th>College</th>\n",
       "      <th>Age</th>\n",
       "      <th>Experience</th>\n",
       "      <th>DOB</th>\n",
       "      <th>Height</th>\n",
       "      <th>Weight</th>\n",
       "      <th>...</th>\n",
       "      <th>Block Shedding</th>\n",
       "      <th>Power Moves</th>\n",
       "      <th>Finesse Moves</th>\n",
       "      <th>Hit Power</th>\n",
       "      <th>Man Coverage</th>\n",
       "      <th>Zone Coverage</th>\n",
       "      <th>Press</th>\n",
       "      <th>Kick Power</th>\n",
       "      <th>Kick Accuracy</th>\n",
       "      <th>Primary Key</th>\n",
       "    </tr>\n",
       "  </thead>\n",
       "  <tbody>\n",
       "    <tr>\n",
       "      <th>0</th>\n",
       "      <td>Aaron Donald</td>\n",
       "      <td>RE</td>\n",
       "      <td>99</td>\n",
       "      <td>Rams</td>\n",
       "      <td>Pittsburgh</td>\n",
       "      <td>29</td>\n",
       "      <td>6</td>\n",
       "      <td>5/23/1991</td>\n",
       "      <td>73</td>\n",
       "      <td>280</td>\n",
       "      <td>...</td>\n",
       "      <td>97</td>\n",
       "      <td>99</td>\n",
       "      <td>97</td>\n",
       "      <td>88</td>\n",
       "      <td>25</td>\n",
       "      <td>29</td>\n",
       "      <td>21</td>\n",
       "      <td>25</td>\n",
       "      <td>21</td>\n",
       "      <td>10852</td>\n",
       "    </tr>\n",
       "    <tr>\n",
       "      <th>1</th>\n",
       "      <td>Christian McCaffrey</td>\n",
       "      <td>HB</td>\n",
       "      <td>99</td>\n",
       "      <td>Panthers</td>\n",
       "      <td>Stanford</td>\n",
       "      <td>24</td>\n",
       "      <td>3</td>\n",
       "      <td>6/7/1996</td>\n",
       "      <td>71</td>\n",
       "      <td>205</td>\n",
       "      <td>...</td>\n",
       "      <td>32</td>\n",
       "      <td>10</td>\n",
       "      <td>10</td>\n",
       "      <td>27</td>\n",
       "      <td>12</td>\n",
       "      <td>17</td>\n",
       "      <td>15</td>\n",
       "      <td>29</td>\n",
       "      <td>23</td>\n",
       "      <td>12556</td>\n",
       "    </tr>\n",
       "    <tr>\n",
       "      <th>2</th>\n",
       "      <td>Michael Thomas</td>\n",
       "      <td>WR</td>\n",
       "      <td>99</td>\n",
       "      <td>Saints</td>\n",
       "      <td>Ohio State</td>\n",
       "      <td>27</td>\n",
       "      <td>4</td>\n",
       "      <td>3/3/1993</td>\n",
       "      <td>75</td>\n",
       "      <td>212</td>\n",
       "      <td>...</td>\n",
       "      <td>22</td>\n",
       "      <td>11</td>\n",
       "      <td>11</td>\n",
       "      <td>15</td>\n",
       "      <td>16</td>\n",
       "      <td>18</td>\n",
       "      <td>16</td>\n",
       "      <td>23</td>\n",
       "      <td>22</td>\n",
       "      <td>17552</td>\n",
       "    </tr>\n",
       "    <tr>\n",
       "      <th>3</th>\n",
       "      <td>Patrick Mahomes</td>\n",
       "      <td>QB</td>\n",
       "      <td>99</td>\n",
       "      <td>Chiefs</td>\n",
       "      <td>Texas Tech</td>\n",
       "      <td>24</td>\n",
       "      <td>3</td>\n",
       "      <td>9/17/1995</td>\n",
       "      <td>75</td>\n",
       "      <td>230</td>\n",
       "      <td>...</td>\n",
       "      <td>24</td>\n",
       "      <td>10</td>\n",
       "      <td>10</td>\n",
       "      <td>18</td>\n",
       "      <td>17</td>\n",
       "      <td>19</td>\n",
       "      <td>10</td>\n",
       "      <td>20</td>\n",
       "      <td>10</td>\n",
       "      <td>12635</td>\n",
       "    </tr>\n",
       "    <tr>\n",
       "      <th>4</th>\n",
       "      <td>Stephon Gilmore</td>\n",
       "      <td>CB</td>\n",
       "      <td>99</td>\n",
       "      <td>Patriots</td>\n",
       "      <td>South Carolina</td>\n",
       "      <td>29</td>\n",
       "      <td>8</td>\n",
       "      <td>9/19/1990</td>\n",
       "      <td>73</td>\n",
       "      <td>202</td>\n",
       "      <td>...</td>\n",
       "      <td>54</td>\n",
       "      <td>60</td>\n",
       "      <td>44</td>\n",
       "      <td>68</td>\n",
       "      <td>99</td>\n",
       "      <td>97</td>\n",
       "      <td>99</td>\n",
       "      <td>30</td>\n",
       "      <td>25</td>\n",
       "      <td>11436</td>\n",
       "    </tr>\n",
       "  </tbody>\n",
       "</table>\n",
       "<p>5 rows × 68 columns</p>\n",
       "</div>"
      ],
      "text/plain": [
       "                  Name Position  Overall      Team         College  Age  \\\n",
       "0         Aaron Donald       RE       99      Rams      Pittsburgh   29   \n",
       "1  Christian McCaffrey       HB       99  Panthers        Stanford   24   \n",
       "2       Michael Thomas       WR       99    Saints      Ohio State   27   \n",
       "3      Patrick Mahomes       QB       99    Chiefs      Texas Tech   24   \n",
       "4      Stephon Gilmore       CB       99  Patriots  South Carolina   29   \n",
       "\n",
       "   Experience        DOB  Height  Weight  ...  Block Shedding Power Moves  \\\n",
       "0           6  5/23/1991      73     280  ...              97          99   \n",
       "1           3   6/7/1996      71     205  ...              32          10   \n",
       "2           4   3/3/1993      75     212  ...              22          11   \n",
       "3           3  9/17/1995      75     230  ...              24          10   \n",
       "4           8  9/19/1990      73     202  ...              54          60   \n",
       "\n",
       "  Finesse Moves  Hit Power  Man Coverage  Zone Coverage  Press  Kick Power  \\\n",
       "0            97         88            25             29     21          25   \n",
       "1            10         27            12             17     15          29   \n",
       "2            11         15            16             18     16          23   \n",
       "3            10         18            17             19     10          20   \n",
       "4            44         68            99             97     99          30   \n",
       "\n",
       "   Kick Accuracy  Primary Key  \n",
       "0             21        10852  \n",
       "1             23        12556  \n",
       "2             22        17552  \n",
       "3             10        12635  \n",
       "4             25        11436  \n",
       "\n",
       "[5 rows x 68 columns]"
      ]
     },
     "execution_count": 8,
     "metadata": {},
     "output_type": "execute_result"
    }
   ],
   "source": [
    "df2.head()"
   ]
  },
  {
   "cell_type": "markdown",
   "metadata": {},
   "source": [
    "<h3>Don't forget political correctness</h3>"
   ]
  },
  {
   "cell_type": "code",
   "execution_count": 10,
   "metadata": {},
   "outputs": [],
   "source": [
    "df2[\"Team\"]= df2[\"Team\"].replace(\"Redskins\", \"Washington\")"
   ]
  },
  {
   "cell_type": "code",
   "execution_count": 11,
   "metadata": {},
   "outputs": [],
   "source": [
    "df2.to_csv('Madden21Cleaned.csv')"
   ]
  },
  {
   "cell_type": "code",
   "execution_count": null,
   "metadata": {},
   "outputs": [],
   "source": []
  }
 ],
 "metadata": {
  "kernelspec": {
   "display_name": "Python 3",
   "language": "python",
   "name": "python3"
  },
  "language_info": {
   "codemirror_mode": {
    "name": "ipython",
    "version": 3
   },
   "file_extension": ".py",
   "mimetype": "text/x-python",
   "name": "python",
   "nbconvert_exporter": "python",
   "pygments_lexer": "ipython3",
   "version": "3.8.3"
  }
 },
 "nbformat": 4,
 "nbformat_minor": 4
}
