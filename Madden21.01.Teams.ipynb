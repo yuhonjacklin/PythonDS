{
 "cells": [
  {
   "cell_type": "code",
   "execution_count": 1,
   "metadata": {},
   "outputs": [],
   "source": [
    "import numpy as np\n",
    "import pandas as pd"
   ]
  },
  {
   "cell_type": "code",
   "execution_count": 4,
   "metadata": {},
   "outputs": [],
   "source": [
    "df = pd.read_csv('Madden21Cleaned.csv')"
   ]
  },
  {
   "cell_type": "code",
   "execution_count": 11,
   "metadata": {},
   "outputs": [],
   "source": [
    "WSH = df[df['Team'] == 'Washington']"
   ]
  },
  {
   "cell_type": "code",
   "execution_count": 12,
   "metadata": {},
   "outputs": [],
   "source": [
    "WSH = WSH.drop('Unnamed: 0', axis=1)"
   ]
  },
  {
   "cell_type": "code",
   "execution_count": 16,
   "metadata": {},
   "outputs": [],
   "source": [
    "pd.set_option('max_columns', None)"
   ]
  },
  {
   "cell_type": "markdown",
   "metadata": {},
   "source": [
    "<h3>^^ Use the command above so Pandas does not truncate columns</h3>"
   ]
  },
  {
   "cell_type": "code",
   "execution_count": 20,
   "metadata": {},
   "outputs": [
    {
     "data": {
      "text/html": [
       "<div>\n",
       "<style scoped>\n",
       "    .dataframe tbody tr th:only-of-type {\n",
       "        vertical-align: middle;\n",
       "    }\n",
       "\n",
       "    .dataframe tbody tr th {\n",
       "        vertical-align: top;\n",
       "    }\n",
       "\n",
       "    .dataframe thead th {\n",
       "        text-align: right;\n",
       "    }\n",
       "</style>\n",
       "<table border=\"1\" class=\"dataframe\">\n",
       "  <thead>\n",
       "    <tr style=\"text-align: right;\">\n",
       "      <th></th>\n",
       "      <th>Name</th>\n",
       "      <th>Position</th>\n",
       "      <th>Overall</th>\n",
       "      <th>College</th>\n",
       "      <th>Age</th>\n",
       "      <th>Experience</th>\n",
       "      <th>Height</th>\n",
       "      <th>Weight</th>\n",
       "      <th>Jersey Number</th>\n",
       "    </tr>\n",
       "  </thead>\n",
       "  <tbody>\n",
       "    <tr>\n",
       "      <th>104</th>\n",
       "      <td>Brandon Scherff</td>\n",
       "      <td>RG</td>\n",
       "      <td>87</td>\n",
       "      <td>Iowa</td>\n",
       "      <td>28</td>\n",
       "      <td>5</td>\n",
       "      <td>77</td>\n",
       "      <td>315</td>\n",
       "      <td>75</td>\n",
       "    </tr>\n",
       "    <tr>\n",
       "      <th>138</th>\n",
       "      <td>Kendall Fuller</td>\n",
       "      <td>FS</td>\n",
       "      <td>86</td>\n",
       "      <td>Virginia Tech</td>\n",
       "      <td>25</td>\n",
       "      <td>4</td>\n",
       "      <td>71</td>\n",
       "      <td>198</td>\n",
       "      <td>23</td>\n",
       "    </tr>\n",
       "    <tr>\n",
       "      <th>145</th>\n",
       "      <td>Matthew Ioannidis</td>\n",
       "      <td>DT</td>\n",
       "      <td>86</td>\n",
       "      <td>Temple</td>\n",
       "      <td>26</td>\n",
       "      <td>4</td>\n",
       "      <td>75</td>\n",
       "      <td>310</td>\n",
       "      <td>98</td>\n",
       "    </tr>\n",
       "    <tr>\n",
       "      <th>207</th>\n",
       "      <td>Ryan Kerrigan</td>\n",
       "      <td>LE</td>\n",
       "      <td>84</td>\n",
       "      <td>Purdue</td>\n",
       "      <td>32</td>\n",
       "      <td>9</td>\n",
       "      <td>76</td>\n",
       "      <td>265</td>\n",
       "      <td>91</td>\n",
       "    </tr>\n",
       "    <tr>\n",
       "      <th>216</th>\n",
       "      <td>Da'Ron Payne</td>\n",
       "      <td>DT</td>\n",
       "      <td>83</td>\n",
       "      <td>Alabama</td>\n",
       "      <td>23</td>\n",
       "      <td>2</td>\n",
       "      <td>75</td>\n",
       "      <td>319</td>\n",
       "      <td>94</td>\n",
       "    </tr>\n",
       "  </tbody>\n",
       "</table>\n",
       "</div>"
      ],
      "text/plain": [
       "                  Name Position  Overall        College  Age  Experience  \\\n",
       "104    Brandon Scherff       RG       87           Iowa   28           5   \n",
       "138     Kendall Fuller       FS       86  Virginia Tech   25           4   \n",
       "145  Matthew Ioannidis       DT       86         Temple   26           4   \n",
       "207      Ryan Kerrigan       LE       84         Purdue   32           9   \n",
       "216       Da'Ron Payne       DT       83        Alabama   23           2   \n",
       "\n",
       "     Height  Weight  Jersey Number  \n",
       "104      77     315             75  \n",
       "138      71     198             23  \n",
       "145      75     310             98  \n",
       "207      76     265             91  \n",
       "216      75     319             94  "
      ]
     },
     "execution_count": 20,
     "metadata": {},
     "output_type": "execute_result"
    }
   ],
   "source": [
    "WSH[['Name','Position','Overall','College','Age','Experience','Height','Weight','Jersey Number']].head()"
   ]
  },
  {
   "cell_type": "code",
   "execution_count": 21,
   "metadata": {},
   "outputs": [
    {
     "data": {
      "text/html": [
       "<div>\n",
       "<style scoped>\n",
       "    .dataframe tbody tr th:only-of-type {\n",
       "        vertical-align: middle;\n",
       "    }\n",
       "\n",
       "    .dataframe tbody tr th {\n",
       "        vertical-align: top;\n",
       "    }\n",
       "\n",
       "    .dataframe thead th {\n",
       "        text-align: right;\n",
       "    }\n",
       "</style>\n",
       "<table border=\"1\" class=\"dataframe\">\n",
       "  <thead>\n",
       "    <tr style=\"text-align: right;\">\n",
       "      <th></th>\n",
       "      <th>Name</th>\n",
       "      <th>Position</th>\n",
       "      <th>Overall</th>\n",
       "      <th>College</th>\n",
       "      <th>Age</th>\n",
       "      <th>Experience</th>\n",
       "      <th>Height</th>\n",
       "      <th>Weight</th>\n",
       "      <th>Jersey Number</th>\n",
       "    </tr>\n",
       "  </thead>\n",
       "  <tbody>\n",
       "    <tr>\n",
       "      <th>2022</th>\n",
       "      <td>Cornelius Lucas III</td>\n",
       "      <td>LT</td>\n",
       "      <td>59</td>\n",
       "      <td>Kansas State</td>\n",
       "      <td>29</td>\n",
       "      <td>6</td>\n",
       "      <td>80</td>\n",
       "      <td>327</td>\n",
       "      <td>78</td>\n",
       "    </tr>\n",
       "    <tr>\n",
       "      <th>2176</th>\n",
       "      <td>Jeremy Reaves</td>\n",
       "      <td>FS</td>\n",
       "      <td>55</td>\n",
       "      <td>South Alabama</td>\n",
       "      <td>24</td>\n",
       "      <td>2</td>\n",
       "      <td>71</td>\n",
       "      <td>205</td>\n",
       "      <td>39</td>\n",
       "    </tr>\n",
       "    <tr>\n",
       "      <th>2230</th>\n",
       "      <td>Paul Adams</td>\n",
       "      <td>LT</td>\n",
       "      <td>53</td>\n",
       "      <td>Missouri</td>\n",
       "      <td>25</td>\n",
       "      <td>2</td>\n",
       "      <td>78</td>\n",
       "      <td>317</td>\n",
       "      <td>79</td>\n",
       "    </tr>\n",
       "    <tr>\n",
       "      <th>2241</th>\n",
       "      <td>Timon Parris</td>\n",
       "      <td>RT</td>\n",
       "      <td>52</td>\n",
       "      <td>Stony Brook</td>\n",
       "      <td>24</td>\n",
       "      <td>2</td>\n",
       "      <td>78</td>\n",
       "      <td>315</td>\n",
       "      <td>61</td>\n",
       "    </tr>\n",
       "    <tr>\n",
       "      <th>2256</th>\n",
       "      <td>Nick Sundberg</td>\n",
       "      <td>C</td>\n",
       "      <td>49</td>\n",
       "      <td>California</td>\n",
       "      <td>33</td>\n",
       "      <td>10</td>\n",
       "      <td>72</td>\n",
       "      <td>254</td>\n",
       "      <td>57</td>\n",
       "    </tr>\n",
       "  </tbody>\n",
       "</table>\n",
       "</div>"
      ],
      "text/plain": [
       "                     Name Position  Overall        College  Age  Experience  \\\n",
       "2022  Cornelius Lucas III       LT       59   Kansas State   29           6   \n",
       "2176        Jeremy Reaves       FS       55  South Alabama   24           2   \n",
       "2230           Paul Adams       LT       53       Missouri   25           2   \n",
       "2241         Timon Parris       RT       52    Stony Brook   24           2   \n",
       "2256        Nick Sundberg        C       49     California   33          10   \n",
       "\n",
       "      Height  Weight  Jersey Number  \n",
       "2022      80     327             78  \n",
       "2176      71     205             39  \n",
       "2230      78     317             79  \n",
       "2241      78     315             61  \n",
       "2256      72     254             57  "
      ]
     },
     "execution_count": 21,
     "metadata": {},
     "output_type": "execute_result"
    }
   ],
   "source": [
    "WSH[['Name','Position','Overall','College','Age','Experience','Height','Weight','Jersey Number']].tail()"
   ]
  },
  {
   "cell_type": "markdown",
   "metadata": {},
   "source": [
    "<h3>The player ratings range from 49 to 87</h3>"
   ]
  },
  {
   "cell_type": "code",
   "execution_count": 22,
   "metadata": {},
   "outputs": [
    {
     "data": {
      "text/plain": [
       "<matplotlib.axes._subplots.AxesSubplot at 0x11c67ae50>"
      ]
     },
     "execution_count": 22,
     "metadata": {},
     "output_type": "execute_result"
    },
    {
     "data": {
      "image/png": "[encoded data removed]",
      "text/plain": [
       "<Figure size 432x288 with 1 Axes>"
      ]
     },
     "metadata": {
      "needs_background": "light"
     },
     "output_type": "display_data"
    }
   ],
   "source": [
    "WSH.boxplot('Overall')"
   ]
  },
  {
   "cell_type": "code",
   "execution_count": 23,
   "metadata": {},
   "outputs": [
    {
     "data": {
      "text/plain": [
       "<matplotlib.axes._subplots.AxesSubplot at 0x11c751af0>"
      ]
     },
     "execution_count": 23,
     "metadata": {},
     "output_type": "execute_result"
    },
    {
     "data": {
      "image/png": "[encoded data removed]",
      "text/plain": [
       "<Figure size 432x288 with 1 Axes>"
      ]
     },
     "metadata": {
      "needs_background": "light"
     },
     "output_type": "display_data"
    }
   ],
   "source": [
    "WSH['Overall'].plot.hist()"
   ]
  },
  {
   "cell_type": "code",
   "execution_count": 46,
   "metadata": {},
   "outputs": [
    {
     "data": {
      "text/plain": [
       "69.39189189189189"
      ]
     },
     "execution_count": 46,
     "metadata": {},
     "output_type": "execute_result"
    }
   ],
   "source": [
    "np.mean(WSH['Overall'])"
   ]
  },
  {
   "cell_type": "code",
   "execution_count": 45,
   "metadata": {},
   "outputs": [
    {
     "data": {
      "text/plain": [
       "69.0"
      ]
     },
     "execution_count": 45,
     "metadata": {},
     "output_type": "execute_result"
    }
   ],
   "source": [
    "np.median(WSH['Overall'])"
   ]
  },
  {
   "cell_type": "code",
   "execution_count": 44,
   "metadata": {},
   "outputs": [
    {
     "data": {
      "text/plain": [
       "67.94101533966399"
      ]
     },
     "execution_count": 44,
     "metadata": {},
     "output_type": "execute_result"
    }
   ],
   "source": [
    "np.var(WSH['Overall'])"
   ]
  },
  {
   "cell_type": "code",
   "execution_count": 43,
   "metadata": {},
   "outputs": [
    {
     "data": {
      "text/plain": [
       "8.242634004956425"
      ]
     },
     "execution_count": 43,
     "metadata": {},
     "output_type": "execute_result"
    }
   ],
   "source": [
    "np.std(WSH['Overall'])"
   ]
  },
  {
   "cell_type": "code",
   "execution_count": 32,
   "metadata": {},
   "outputs": [
    {
     "data": {
      "text/html": [
       "<div>\n",
       "<style scoped>\n",
       "    .dataframe tbody tr th:only-of-type {\n",
       "        vertical-align: middle;\n",
       "    }\n",
       "\n",
       "    .dataframe tbody tr th {\n",
       "        vertical-align: top;\n",
       "    }\n",
       "\n",
       "    .dataframe thead th {\n",
       "        text-align: right;\n",
       "    }\n",
       "</style>\n",
       "<table border=\"1\" class=\"dataframe\">\n",
       "  <thead>\n",
       "    <tr style=\"text-align: right;\">\n",
       "      <th></th>\n",
       "      <th>Name</th>\n",
       "      <th>Position</th>\n",
       "      <th>Overall</th>\n",
       "      <th>College</th>\n",
       "      <th>Age</th>\n",
       "      <th>Experience</th>\n",
       "    </tr>\n",
       "  </thead>\n",
       "  <tbody>\n",
       "    <tr>\n",
       "      <th>445</th>\n",
       "      <td>Thomas Davis Sr</td>\n",
       "      <td>ROLB</td>\n",
       "      <td>78</td>\n",
       "      <td>Georgia</td>\n",
       "      <td>37</td>\n",
       "      <td>15</td>\n",
       "    </tr>\n",
       "    <tr>\n",
       "      <th>1152</th>\n",
       "      <td>Alex Smith</td>\n",
       "      <td>QB</td>\n",
       "      <td>68</td>\n",
       "      <td>Utah</td>\n",
       "      <td>36</td>\n",
       "      <td>15</td>\n",
       "    </tr>\n",
       "    <tr>\n",
       "      <th>401</th>\n",
       "      <td>Adrian Peterson</td>\n",
       "      <td>HB</td>\n",
       "      <td>78</td>\n",
       "      <td>Oklahoma</td>\n",
       "      <td>35</td>\n",
       "      <td>13</td>\n",
       "    </tr>\n",
       "    <tr>\n",
       "      <th>2256</th>\n",
       "      <td>Nick Sundberg</td>\n",
       "      <td>C</td>\n",
       "      <td>49</td>\n",
       "      <td>California</td>\n",
       "      <td>33</td>\n",
       "      <td>10</td>\n",
       "    </tr>\n",
       "    <tr>\n",
       "      <th>207</th>\n",
       "      <td>Ryan Kerrigan</td>\n",
       "      <td>LE</td>\n",
       "      <td>84</td>\n",
       "      <td>Purdue</td>\n",
       "      <td>32</td>\n",
       "      <td>9</td>\n",
       "    </tr>\n",
       "  </tbody>\n",
       "</table>\n",
       "</div>"
      ],
      "text/plain": [
       "                 Name Position  Overall     College  Age  Experience\n",
       "445   Thomas Davis Sr     ROLB       78     Georgia   37          15\n",
       "1152       Alex Smith       QB       68        Utah   36          15\n",
       "401   Adrian Peterson       HB       78    Oklahoma   35          13\n",
       "2256    Nick Sundberg        C       49  California   33          10\n",
       "207     Ryan Kerrigan       LE       84      Purdue   32           9"
      ]
     },
     "execution_count": 32,
     "metadata": {},
     "output_type": "execute_result"
    }
   ],
   "source": [
    "WSH[['Name','Position','Overall','College','Age','Experience']].sort_values(by=['Age','Overall'], ascending=False).head()"
   ]
  },
  {
   "cell_type": "code",
   "execution_count": 35,
   "metadata": {},
   "outputs": [
    {
     "data": {
      "text/html": [
       "<div>\n",
       "<style scoped>\n",
       "    .dataframe tbody tr th:only-of-type {\n",
       "        vertical-align: middle;\n",
       "    }\n",
       "\n",
       "    .dataframe tbody tr th {\n",
       "        vertical-align: top;\n",
       "    }\n",
       "\n",
       "    .dataframe thead th {\n",
       "        text-align: right;\n",
       "    }\n",
       "</style>\n",
       "<table border=\"1\" class=\"dataframe\">\n",
       "  <thead>\n",
       "    <tr style=\"text-align: right;\">\n",
       "      <th></th>\n",
       "      <th>Name</th>\n",
       "      <th>Position</th>\n",
       "      <th>Overall</th>\n",
       "      <th>College</th>\n",
       "      <th>Age</th>\n",
       "      <th>Experience</th>\n",
       "    </tr>\n",
       "  </thead>\n",
       "  <tbody>\n",
       "    <tr>\n",
       "      <th>1860</th>\n",
       "      <td>Saahdiq Charles</td>\n",
       "      <td>LT</td>\n",
       "      <td>62</td>\n",
       "      <td>LSU</td>\n",
       "      <td>21</td>\n",
       "      <td>0</td>\n",
       "    </tr>\n",
       "    <tr>\n",
       "      <th>1743</th>\n",
       "      <td>Kamren Curl</td>\n",
       "      <td>SS</td>\n",
       "      <td>63</td>\n",
       "      <td>Arkansas</td>\n",
       "      <td>21</td>\n",
       "      <td>0</td>\n",
       "    </tr>\n",
       "    <tr>\n",
       "      <th>325</th>\n",
       "      <td>Chase Young</td>\n",
       "      <td>RE</td>\n",
       "      <td>80</td>\n",
       "      <td>Ohio State</td>\n",
       "      <td>21</td>\n",
       "      <td>0</td>\n",
       "    </tr>\n",
       "    <tr>\n",
       "      <th>1918</th>\n",
       "      <td>Keith Ismael</td>\n",
       "      <td>C</td>\n",
       "      <td>61</td>\n",
       "      <td>San Diego St.</td>\n",
       "      <td>22</td>\n",
       "      <td>0</td>\n",
       "    </tr>\n",
       "    <tr>\n",
       "      <th>1866</th>\n",
       "      <td>Thaddeus Moss</td>\n",
       "      <td>TE</td>\n",
       "      <td>62</td>\n",
       "      <td>LSU</td>\n",
       "      <td>22</td>\n",
       "      <td>0</td>\n",
       "    </tr>\n",
       "    <tr>\n",
       "      <th>1417</th>\n",
       "      <td>Khaleke Hudson</td>\n",
       "      <td>ROLB</td>\n",
       "      <td>66</td>\n",
       "      <td>Michigan</td>\n",
       "      <td>22</td>\n",
       "      <td>0</td>\n",
       "    </tr>\n",
       "    <tr>\n",
       "      <th>1052</th>\n",
       "      <td>Antonio Gibson</td>\n",
       "      <td>HB</td>\n",
       "      <td>69</td>\n",
       "      <td>Memphis</td>\n",
       "      <td>22</td>\n",
       "      <td>0</td>\n",
       "    </tr>\n",
       "    <tr>\n",
       "      <th>1053</th>\n",
       "      <td>Antonio Gandy-Golden</td>\n",
       "      <td>WR</td>\n",
       "      <td>69</td>\n",
       "      <td>Liberty</td>\n",
       "      <td>22</td>\n",
       "      <td>0</td>\n",
       "    </tr>\n",
       "    <tr>\n",
       "      <th>1728</th>\n",
       "      <td>James Smith-Williams</td>\n",
       "      <td>RE</td>\n",
       "      <td>63</td>\n",
       "      <td>N.C. State</td>\n",
       "      <td>23</td>\n",
       "      <td>0</td>\n",
       "    </tr>\n",
       "  </tbody>\n",
       "</table>\n",
       "</div>"
      ],
      "text/plain": [
       "                      Name Position  Overall        College  Age  Experience\n",
       "1860       Saahdiq Charles       LT       62            LSU   21           0\n",
       "1743           Kamren Curl       SS       63       Arkansas   21           0\n",
       "325            Chase Young       RE       80     Ohio State   21           0\n",
       "1918          Keith Ismael        C       61  San Diego St.   22           0\n",
       "1866         Thaddeus Moss       TE       62            LSU   22           0\n",
       "1417        Khaleke Hudson     ROLB       66       Michigan   22           0\n",
       "1052        Antonio Gibson       HB       69        Memphis   22           0\n",
       "1053  Antonio Gandy-Golden       WR       69        Liberty   22           0\n",
       "1728  James Smith-Williams       RE       63     N.C. State   23           0"
      ]
     },
     "execution_count": 35,
     "metadata": {},
     "output_type": "execute_result"
    }
   ],
   "source": [
    "WSH[['Name','Position','Overall','College','Age','Experience']].sort_values(by=['Age','Overall'], ascending=True).head(9)"
   ]
  },
  {
   "cell_type": "markdown",
   "metadata": {},
   "source": [
    "<h3>There are nine rookies in WSH</h3>"
   ]
  },
  {
   "cell_type": "code",
   "execution_count": 36,
   "metadata": {},
   "outputs": [
    {
     "data": {
      "text/plain": [
       "<matplotlib.axes._subplots.AxesSubplot at 0x11c87e730>"
      ]
     },
     "execution_count": 36,
     "metadata": {},
     "output_type": "execute_result"
    },
    {
     "data": {
      "image/png": "[encoded data removed]",
      "text/plain": [
       "<Figure size 432x288 with 1 Axes>"
      ]
     },
     "metadata": {
      "needs_background": "light"
     },
     "output_type": "display_data"
    }
   ],
   "source": [
    "WSH.boxplot('Age')"
   ]
  },
  {
   "cell_type": "code",
   "execution_count": 37,
   "metadata": {},
   "outputs": [
    {
     "data": {
      "text/plain": [
       "<matplotlib.axes._subplots.AxesSubplot at 0x119f55550>"
      ]
     },
     "execution_count": 37,
     "metadata": {},
     "output_type": "execute_result"
    },
    {
     "data": {
      "image/png": "[encoded data removed]",
      "text/plain": [
       "<Figure size 432x288 with 1 Axes>"
      ]
     },
     "metadata": {
      "needs_background": "light"
     },
     "output_type": "display_data"
    }
   ],
   "source": [
    "WSH['Age'].plot.hist()"
   ]
  },
  {
   "cell_type": "code",
   "execution_count": 47,
   "metadata": {},
   "outputs": [
    {
     "data": {
      "text/plain": [
       "25.635135135135137"
      ]
     },
     "execution_count": 47,
     "metadata": {},
     "output_type": "execute_result"
    }
   ],
   "source": [
    "np.mean(WSH['Age'])"
   ]
  },
  {
   "cell_type": "code",
   "execution_count": 48,
   "metadata": {},
   "outputs": [
    {
     "data": {
      "text/plain": [
       "25.0"
      ]
     },
     "execution_count": 48,
     "metadata": {},
     "output_type": "execute_result"
    }
   ],
   "source": [
    "np.median(WSH['Age'])"
   ]
  },
  {
   "cell_type": "code",
   "execution_count": 49,
   "metadata": {},
   "outputs": [
    {
     "data": {
      "text/plain": [
       "10.691197954711475"
      ]
     },
     "execution_count": 49,
     "metadata": {},
     "output_type": "execute_result"
    }
   ],
   "source": [
    "np.var(WSH['Age'])"
   ]
  },
  {
   "cell_type": "code",
   "execution_count": 50,
   "metadata": {},
   "outputs": [
    {
     "data": {
      "text/plain": [
       "3.2697397380696027"
      ]
     },
     "execution_count": 50,
     "metadata": {},
     "output_type": "execute_result"
    }
   ],
   "source": [
    "np.std(WSH['Age'])"
   ]
  },
  {
   "cell_type": "code",
   "execution_count": 54,
   "metadata": {},
   "outputs": [
    {
     "data": {
      "text/html": [
       "<div>\n",
       "<style scoped>\n",
       "    .dataframe tbody tr th:only-of-type {\n",
       "        vertical-align: middle;\n",
       "    }\n",
       "\n",
       "    .dataframe tbody tr th {\n",
       "        vertical-align: top;\n",
       "    }\n",
       "\n",
       "    .dataframe thead th {\n",
       "        text-align: right;\n",
       "    }\n",
       "</style>\n",
       "<table border=\"1\" class=\"dataframe\">\n",
       "  <thead>\n",
       "    <tr style=\"text-align: right;\">\n",
       "      <th></th>\n",
       "      <th>Name</th>\n",
       "      <th>Position</th>\n",
       "      <th>Overall</th>\n",
       "      <th>College</th>\n",
       "      <th>Height</th>\n",
       "    </tr>\n",
       "  </thead>\n",
       "  <tbody>\n",
       "    <tr>\n",
       "      <th>2022</th>\n",
       "      <td>Cornelius Lucas III</td>\n",
       "      <td>LT</td>\n",
       "      <td>59</td>\n",
       "      <td>Kansas State</td>\n",
       "      <td>80</td>\n",
       "    </tr>\n",
       "    <tr>\n",
       "      <th>559</th>\n",
       "      <td>Montez Sweat</td>\n",
       "      <td>RE</td>\n",
       "      <td>76</td>\n",
       "      <td>Mississippi St.</td>\n",
       "      <td>78</td>\n",
       "    </tr>\n",
       "    <tr>\n",
       "      <th>609</th>\n",
       "      <td>Morgan Moses</td>\n",
       "      <td>RT</td>\n",
       "      <td>75</td>\n",
       "      <td>Virginia</td>\n",
       "      <td>78</td>\n",
       "    </tr>\n",
       "    <tr>\n",
       "      <th>1648</th>\n",
       "      <td>Logan Thomas</td>\n",
       "      <td>TE</td>\n",
       "      <td>64</td>\n",
       "      <td>Virginia Tech</td>\n",
       "      <td>78</td>\n",
       "    </tr>\n",
       "    <tr>\n",
       "      <th>2230</th>\n",
       "      <td>Paul Adams</td>\n",
       "      <td>LT</td>\n",
       "      <td>53</td>\n",
       "      <td>Missouri</td>\n",
       "      <td>78</td>\n",
       "    </tr>\n",
       "    <tr>\n",
       "      <th>2241</th>\n",
       "      <td>Timon Parris</td>\n",
       "      <td>RT</td>\n",
       "      <td>52</td>\n",
       "      <td>Stony Brook</td>\n",
       "      <td>78</td>\n",
       "    </tr>\n",
       "  </tbody>\n",
       "</table>\n",
       "</div>"
      ],
      "text/plain": [
       "                     Name Position  Overall          College  Height\n",
       "2022  Cornelius Lucas III       LT       59     Kansas State      80\n",
       "559          Montez Sweat       RE       76  Mississippi St.      78\n",
       "609          Morgan Moses       RT       75         Virginia      78\n",
       "1648         Logan Thomas       TE       64    Virginia Tech      78\n",
       "2230           Paul Adams       LT       53         Missouri      78\n",
       "2241         Timon Parris       RT       52      Stony Brook      78"
      ]
     },
     "execution_count": 54,
     "metadata": {},
     "output_type": "execute_result"
    }
   ],
   "source": [
    "WSH[['Name','Position','Overall','College','Height']].sort_values(by=['Height','Overall'], ascending=False).head(6)"
   ]
  },
  {
   "cell_type": "code",
   "execution_count": null,
   "metadata": {},
   "outputs": [],
   "source": []
  }
 ],
 "metadata": {
  "kernelspec": {
   "display_name": "Python 3",
   "language": "python",
   "name": "python3"
  },
  "language_info": {
   "codemirror_mode": {
    "name": "ipython",
    "version": 3
   },
   "file_extension": ".py",
   "mimetype": "text/x-python",
   "name": "python",
   "nbconvert_exporter": "python",
   "pygments_lexer": "ipython3",
   "version": "3.8.3"
  }
 },
 "nbformat": 4,
 "nbformat_minor": 4
}
